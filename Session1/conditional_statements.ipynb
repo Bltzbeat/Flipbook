{
 "cells": [
  {
   "cell_type": "markdown",
   "metadata": {},
   "source": [
    "Conditional Statements in Python\n",
    "\n",
    "Conditional statements are programming constructs that allow your code to make decisions and \n",
    "execute different actions based on whether certain conditions are true or false."
   ]
  },
  {
   "cell_type": "markdown",
   "metadata": {},
   "source": [
    "Basic Structure"
   ]
  },
  {
   "cell_type": "code",
   "execution_count": null,
   "metadata": {},
   "outputs": [],
   "source": [
    "if condition1:\n",
    "    # Code that runs if condition1 is True\n",
    "elif condition2:\n",
    "    # Code that runs if condition1 is False but condition2 is True\n",
    "else:\n",
    "    # Code that runs if all conditions above are False"
   ]
  },
  {
   "cell_type": "markdown",
   "metadata": {},
   "source": [
    "Comparison Operators\n",
    "Conditions often use comparison operators:\n",
    "\n",
    "== : Equal to\n",
    "!= : Not equal to\n",
    "> : Greater than\n",
    "< : Less than\n",
    ">= : Greater than or equal to\n",
    "<= : Less than or equal to"
   ]
  },
  {
   "cell_type": "code",
   "execution_count": null,
   "metadata": {},
   "outputs": [],
   "source": [
    "score = 85\n",
    "\n",
    "if score >= 90:\n",
    "    print(\"Grade: A\")\n",
    "elif score >= 80:\n",
    "    print(\"Grade: B\")\n",
    "elif score >= 70:\n",
    "    print(\"Grade: C\")\n",
    "elif score >= 60:\n",
    "    print(\"Grade: D\")\n",
    "else:\n",
    "    print(\"Grade: F\")"
   ]
  },
  {
   "cell_type": "markdown",
   "metadata": {},
   "source": [
    "Examples:"
   ]
  },
  {
   "cell_type": "code",
   "execution_count": null,
   "metadata": {},
   "outputs": [],
   "source": [
    "# Example 1: The Hungry Programmer\n",
    "hunger_level = int(input(\"On a scale of 1-10, how hungry are you? \"))\n",
    "\n",
    "if hunger_level <= 3:\n",
    "    print(\"You're fine. Keep coding!\")\n",
    "elif hunger_level <= 6:\n",
    "    print(\"Maybe grab a snack... code doesn't taste good.\")\n",
    "elif hunger_level <= 9:\n",
    "    print(\"ALERT: Low fuel detected! Immediate pizza required!\")\n",
    "else:\n",
    "    print(\"SYSTEM CRASH IMMINENT! FEED THE PROGRAMMER IMMEDIATELY!\")"
   ]
  },
  {
   "cell_type": "code",
   "execution_count": null,
   "metadata": {},
   "outputs": [],
   "source": [
    "# Example 2: Weather Outfit Picker\n",
    "weather = input(\"What's the weather like today? (rainy/sunny/snowy/cloudy) \").lower()\n",
    "\n",
    "if weather == \"rainy\":\n",
    "    print(\"Grab an umbrella... or just stay inside and code like a normal programmer.\")\n",
    "elif weather == \"sunny\":\n",
    "    print(\"Sunglasses mode activated! Don't let the sun's glare hide your bugs.\")\n",
    "elif weather == \"snowy\":\n",
    "    print(\"Perfect weather for debugging - your code won't be the only thing that's frozen!\")\n",
    "elif weather == \"cloudy\":\n",
    "    print(\"Cloudy with a chance of programming. No excuses today!\")\n",
    "else:\n",
    "    print(\"Invalid weather type... Did you invent a new climate just to avoid coding?\")"
   ]
  },
  {
   "cell_type": "code",
   "execution_count": null,
   "metadata": {},
   "outputs": [],
   "source": [
    "# Example 3: The Coffee Counter\n",
    "coffees = int(input(\"How many coffees have you had today? \"))\n",
    "\n",
    "if coffees == 0:\n",
    "    print(\"Error 404: Caffeine not found. How are you even functioning?\")\n",
    "elif coffees == 1:\n",
    "    print(\"Rookie numbers. Your code is probably full of syntax errors.\")\n",
    "elif coffees <= 3:\n",
    "    print(\"Now you're talking! Optimal caffeine-to-code ratio achieved.\")\n",
    "elif coffees <= 5:\n",
    "    print(\"Your fingers are probably typing faster than your brain can think!\")\n",
    "else:\n",
    "    print(\"WARNING: Your heart might be writing its own code by now.\")"
   ]
  },
  {
   "cell_type": "code",
   "execution_count": null,
   "metadata": {},
   "outputs": [],
   "source": [
    "# Example 4: Password Strength Checker\n",
    "password = input(\"Enter your password: \")\n",
    "\n",
    "if len(password) < 6:\n",
    "    print(\"Your password is shorter than a TikTok attention span!\")\n",
    "elif password == \"password\" or password == \"12345\":\n",
    "    print(\"Ah yes, the 'Please hack my account' special. Very bold choice.\")\n",
    "elif len(password) >= 10 and any(char.isdigit() for char in password):\n",
    "    print(\"Solid password! Even your ex couldn't guess this one.\")\n",
    "else:\n",
    "    print(\"Meh, it's an okay password. Like a participation trophy in digital form.\")"
   ]
  },
  {
   "cell_type": "code",
   "execution_count": null,
   "metadata": {},
   "outputs": [],
   "source": [
    "# Example 5: Age-Related Programming Skills\n",
    "age = int(input(\"How old are you? \"))\n",
    "\n",
    "if age < 10:\n",
    "    print(\"Wow! Starting early! In no time you'll be explaining Python to your teachers.\")\n",
    "elif age < 18:\n",
    "    print(\"Perfect timing! When your friends are dating, you'll be debugging.\")\n",
    "elif age < 30:\n",
    "    print(\"Nice! A quarter-life crisis solved by learning to code.\")\n",
    "elif age < 60:\n",
    "    print(\"It's never too late to teach an experienced human new tricks!\")\n",
    "else:\n",
    "    print(\"Age is just a number... and in programming, we love numbers!\")"
   ]
  }
 ],
 "metadata": {
  "kernelspec": {
   "display_name": "Python 3",
   "language": "python",
   "name": "python3"
  },
  "language_info": {
   "codemirror_mode": {
    "name": "ipython",
    "version": 3
   },
   "file_extension": ".py",
   "mimetype": "text/x-python",
   "name": "python",
   "nbconvert_exporter": "python",
   "pygments_lexer": "ipython3",
   "version": "3.12.8"
  }
 },
 "nbformat": 4,
 "nbformat_minor": 2
}
