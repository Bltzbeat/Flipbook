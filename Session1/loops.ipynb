{
 "cells": [
  {
   "cell_type": "markdown",
   "metadata": {},
   "source": [
    "__Python Loops: for and while__\n",
    "\n",
    "<font color=\"#FF5733\">For Loops</font>\n",
    "\n",
    "A for loop is used to iterate over a sequence (like a list, tuple, string, or range) and execute a block of code for each item in the sequence."
   ]
  },
  {
   "cell_type": "markdown",
   "metadata": {},
   "source": [
    "__Basic Structure__"
   ]
  },
  {
   "cell_type": "code",
   "execution_count": null,
   "metadata": {},
   "outputs": [],
   "source": [
    "for item in sequence:\n",
    "    # Code to execute for each item"
   ]
  },
  {
   "cell_type": "markdown",
   "metadata": {},
   "source": [
    "__Examples:__"
   ]
  },
  {
   "cell_type": "code",
   "execution_count": null,
   "metadata": {},
   "outputs": [],
   "source": [
    "# Loop through a list of items\n",
    "fruits = [\"apple\", \"banana\", \"cherry\"]\n",
    "for fruit in fruits:\n",
    "    print(f\"I like {fruit}s\")\n",
    "\n",
    "# Loop through a range of numbers\n",
    "for number in range(5):  # 0, 1, 2, 3, 4\n",
    "    print(f\"Count: {number}\")\n",
    "\n",
    "# Loop with index using enumerate\n",
    "colors = [\"red\", \"green\", \"blue\"]\n",
    "for index, color in enumerate(colors):\n",
    "    print(f\"Color #{index+1}: {color}\")\n",
    "\n",
    "# Loop through characters in a string\n",
    "for letter in \"Python\":\n",
    "    print(letter)\n",
    "\n",
    "# Loop through key-value pairs in a dictionary\n",
    "student = {\"name\": \"Alice\", \"age\": 20, \"grade\": \"A\"}\n",
    "for key, value in student.items():\n",
    "    print(f\"{key}: {value}\")"
   ]
  },
  {
   "cell_type": "markdown",
   "metadata": {},
   "source": [
    "For loops are excellent when you know exactly how many times you need to iterate, or when you're processing each item in a collection."
   ]
  },
  {
   "cell_type": "markdown",
   "metadata": {},
   "source": [
    "<font color=\"#FF5733\">While loops</font>\n",
    "\n",
    "A while loop executes a block of code repeatedly as long as a condition remains True."
   ]
  },
  {
   "cell_type": "markdown",
   "metadata": {},
   "source": [
    "__Basic Structure__"
   ]
  },
  {
   "cell_type": "code",
   "execution_count": null,
   "metadata": {},
   "outputs": [],
   "source": [
    "while condition:\n",
    "    # Code to execute while condition is True"
   ]
  },
  {
   "cell_type": "markdown",
   "metadata": {},
   "source": [
    "__Examples:__"
   ]
  },
  {
   "cell_type": "code",
   "execution_count": null,
   "metadata": {},
   "outputs": [],
   "source": [
    "# Example 1: The Hungry Programmer with Loop\n",
    "continue_checking = \"yes\"\n",
    "\n",
    "while continue_checking.lower() == \"yes\":\n",
    "    hunger_level = int(input(\"On a scale of 1-10, how hungry are you? \"))\n",
    "    \n",
    "    if hunger_level <= 3:\n",
    "        print(\"You're fine. Keep coding!\")\n",
    "    elif hunger_level <= 6:\n",
    "        print(\"Maybe grab a snack... code doesn't taste good.\")\n",
    "    elif hunger_level <= 9:\n",
    "        print(\"ALERT: Low fuel detected! Immediate pizza required!\")\n",
    "    else:\n",
    "        print(\"SYSTEM CRASH IMMINENT! FEED THE PROGRAMMER IMMEDIATELY!\")\n",
    "    \n",
    "    # Ask if the user wants to check again later\n",
    "    continue_checking = input(\"\\nWant to check your hunger level again later? (yes/no): \")\n",
    "    \n",
    "    if continue_checking.lower() != \"yes\":\n",
    "        print(\"Goodbye! Remember: programmers are like computers - they need regular feeding!\")"
   ]
  },
  {
   "cell_type": "markdown",
   "metadata": {},
   "source": [
    "__Advance Example__"
   ]
  },
  {
   "cell_type": "code",
   "execution_count": null,
   "metadata": {},
   "outputs": [],
   "source": [
    "# The Bomb Timer Countdown\n",
    "import time  # This allows us to add delays\n",
    "\n",
    "# Initialize the timer\n",
    "seconds_remaining = 10\n",
    "defused = False\n",
    "\n",
    "print(\"⚠️ BOMB ACTIVATED! ⚠️\")\n",
    "print(\"Enter the correct code to defuse it!\")\n",
    "\n",
    "# Main countdown loop\n",
    "while seconds_remaining > 0 and not defused:\n",
    "    # Display current time with formatting\n",
    "    print(f\"\\n{'*' * 20}\")\n",
    "    print(f\"TIME REMAINING: {seconds_remaining} seconds\")\n",
    "    print(f\"{'*' * 20}\")\n",
    "    \n",
    "    # Give the user a chance to defuse\n",
    "    code_attempt = input(\"\\nEnter the defuse code (hint: it's 'python'): \")\n",
    "    \n",
    "    # Check if code is correct\n",
    "    if code_attempt.lower() == \"python\":\n",
    "        defused = True\n",
    "        print(\"\\n🎉 BOMB DEFUSED! 🎉\")\n",
    "        print(\"You saved the day!\")\n",
    "    else:\n",
    "        print(\"\\n❌ WRONG CODE! Try again quickly! ❌\")\n",
    "        # Reduce the time\n",
    "        seconds_remaining -= 1\n",
    "    \n",
    "    # Add a slight delay to create tension\n",
    "    time.sleep(1)\n",
    "\n",
    "# If the loop ends and the bomb wasn't defused, it explodes\n",
    "if not defused:\n",
    "    print(\"\\n💥 BOOM! 💥\")\n",
    "    print(\"The bomb exploded! Game over!\")\n",
    "    print(\"Better luck next time, hero.\")"
   ]
  },
  {
   "cell_type": "markdown",
   "metadata": {},
   "source": [
    "__Infinite Loop__"
   ]
  },
  {
   "cell_type": "code",
   "execution_count": null,
   "metadata": {},
   "outputs": [],
   "source": [
    "# Simple infinite loop using while\n",
    "while True:\n",
    "    print(\"This loop runs forever\")"
   ]
  },
  {
   "cell_type": "markdown",
   "metadata": {},
   "source": [
    "__Simple Fix__"
   ]
  },
  {
   "cell_type": "code",
   "execution_count": null,
   "metadata": {},
   "outputs": [],
   "source": [
    "# Simple infinite loop using while\n",
    "while True:\n",
    "    print(\"This loop runs forever\")\n",
    "    \n",
    "    # Fix: Add a user input to break out of the loop\n",
    "    user_input = input(\"Enter 'stop' to exit the loop: \")\n",
    "    if user_input == \"stop\":\n",
    "        break"
   ]
  },
  {
   "cell_type": "markdown",
   "metadata": {},
   "source": [
    "__Key Differences__\n",
    "\n",
    "Iteration Type:\n",
    "\n",
    "For loop: Iterates over a definite sequence\n",
    "While loop: Continues as long as a condition is True\n",
    "\n",
    "\n",
    "__Use Case:__\n",
    "\n",
    "For loop: When you know how many times to iterate or need to process each item in a collection\n",
    "While loop: When you need to continue until a condition changes\n",
    "\n",
    "\n",
    "__Initialization:__\n",
    "\n",
    "For loop: The iterator variable is automatically set for each iteration\n",
    "While loop: You must initialize and update variables yourself\n",
    "\n",
    "\n",
    "__Infinite Loop Risk:__\n",
    "\n",
    "For loop: Generally won't create infinite loops (unless the sequence is infinite)\n",
    "While loop: Can become infinite if the condition never becomes False\n",
    "\n",
    "\n",
    "\n",
    "__Loop Control Statements__\n",
    "\n",
    "break: Exits the loop immediately\n",
    "continue: Skips the rest of the current iteration and moves to the next\n",
    "else: Executes when the loop condition becomes False (not after a break)\n",
    "\n",
    "Understanding both types of loops and when to use each one is essential for effective Python programming."
   ]
  }
 ],
 "metadata": {
  "kernelspec": {
   "display_name": "Python 3",
   "language": "python",
   "name": "python3"
  },
  "language_info": {
   "codemirror_mode": {
    "name": "ipython",
    "version": 3
   },
   "file_extension": ".py",
   "mimetype": "text/x-python",
   "name": "python",
   "nbconvert_exporter": "python",
   "pygments_lexer": "ipython3",
   "version": "3.12.8"
  }
 },
 "nbformat": 4,
 "nbformat_minor": 2
}
