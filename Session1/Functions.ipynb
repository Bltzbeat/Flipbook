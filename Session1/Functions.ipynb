{
 "cells": [
  {
   "cell_type": "markdown",
   "metadata": {},
   "source": [
    "__Python Functions__\n",
    "\n",
    "__Description__\n",
    "\n",
    "Functions are reusable blocks of code that perform a specific task. They allow you to organize your code, avoid repetition, and make your program more modular and maintainable.\n",
    "In Python, functions are defined using the def keyword, followed by the function name, parameters in parentheses, and a colon. The function body is indented below this line."
   ]
  },
  {
   "cell_type": "markdown",
   "metadata": {},
   "source": [
    "__Basic Structure__"
   ]
  },
  {
   "cell_type": "code",
   "execution_count": null,
   "metadata": {},
   "outputs": [],
   "source": [
    "def function_name(parameter1, parameter2, ...):\n",
    "    \"\"\"Docstring explaining what the function does.\"\"\"\n",
    "    # Function body - code to execute\n",
    "    # ...\n",
    "    return value  # Optional return statement"
   ]
  },
  {
   "cell_type": "markdown",
   "metadata": {},
   "source": [
    "__Examples__"
   ]
  },
  {
   "cell_type": "markdown",
   "metadata": {},
   "source": [
    "1. Simple Function Without Parameters"
   ]
  },
  {
   "cell_type": "code",
   "execution_count": null,
   "metadata": {},
   "outputs": [],
   "source": [
    "def say_hello():\n",
    "    \"\"\"Prints a greeting message.\"\"\"\n",
    "    print(\"Hello, world!\")\n",
    "\n",
    "# Call the function\n",
    "say_hello()  # Output: Hello, world!"
   ]
  },
  {
   "cell_type": "markdown",
   "metadata": {},
   "source": [
    "2. Function with Parameters"
   ]
  },
  {
   "cell_type": "code",
   "execution_count": null,
   "metadata": {},
   "outputs": [],
   "source": [
    "def greet(name):\n",
    "    \"\"\"Greets a person by name.\n",
    "    \n",
    "    The 'name' parameter is the input we provide when calling the function.\n",
    "    \"\"\"\n",
    "    print(f\"Hello, {name}!\")\n",
    "\n",
    "# Call the function with an argument\n",
    "greet(\"Alice\")  # \"Alice\" is the argument passed to the name parameter\n",
    "greet(\"Bob\")    # Output: Hello, Bob!"
   ]
  },
  {
   "cell_type": "markdown",
   "metadata": {},
   "source": [
    "3. Function with Multiple Parameters"
   ]
  },
  {
   "cell_type": "code",
   "execution_count": null,
   "metadata": {},
   "outputs": [],
   "source": [
    "def describe_pet(animal_type, pet_name):\n",
    "    \"\"\"Display information about a pet.\"\"\"\n",
    "    print(f\"I have a {animal_type} named {pet_name}.\")\n",
    "\n",
    "# Call with positional arguments (order matters)\n",
    "describe_pet(\"dog\", \"Rex\")  # Output: I have a dog named Rex.\n",
    "\n",
    "# Call with keyword arguments (order doesn't matter)\n",
    "describe_pet(pet_name=\"Whiskers\", animal_type=\"cat\")  # Output: I have a cat named Whiskers."
   ]
  },
  {
   "cell_type": "markdown",
   "metadata": {},
   "source": [
    "4. Function with Return Value"
   ]
  },
  {
   "cell_type": "code",
   "execution_count": null,
   "metadata": {},
   "outputs": [],
   "source": [
    "def add_numbers(a, b):\n",
    "    \"\"\"Adds two numbers and returns the result.\n",
    "    \n",
    "    Parameters:\n",
    "        a: First number\n",
    "        b: Second number\n",
    "    \"\"\"\n",
    "    sum_result = a + b\n",
    "    return sum_result\n",
    "\n",
    "# Call the function with arguments and store the result\n",
    "total = add_numbers(5, 3)  # 5 and 3 are arguments passed to a and b\n",
    "print(total)  # Output: 8"
   ]
  },
  {
   "cell_type": "markdown",
   "metadata": {},
   "source": [
    "5. Function with Default Parameters"
   ]
  },
  {
   "cell_type": "code",
   "execution_count": null,
   "metadata": {},
   "outputs": [],
   "source": [
    "def power(base, exponent=2):\n",
    "    \"\"\"Raises base to the given exponent (default is square).\"\"\"\n",
    "    return base ** exponent\n",
    "\n",
    "# Call with both parameters\n",
    "print(power(2, 3))  # Output: 8 (2^3)\n",
    "\n",
    "# Call with only the required parameter (exponent uses default value)\n",
    "print(power(4))  # Output: 16 (4^2, using default exponent)"
   ]
  },
  {
   "cell_type": "markdown",
   "metadata": {},
   "source": [
    "__Parameters vs. Arguments__\n",
    "\n",
    "It's important to understand the distinction:\n",
    "\n",
    "__Parameters__ are the variables listed in the function definition\n",
    "\n",
    "__Arguments__ are the actual values passed to the function when calling it"
   ]
  },
  {
   "cell_type": "code",
   "execution_count": null,
   "metadata": {},
   "outputs": [],
   "source": [
    "# In this definition, name and age are parameters\n",
    "def describe_person(name, age):\n",
    "    print(f\"{name} is {age} years old\")\n",
    "\n",
    "# In this function call, \"John\" and 25 are arguments\n",
    "describe_person(\"John\", 25)"
   ]
  }
 ],
 "metadata": {
  "kernelspec": {
   "display_name": "Python 3",
   "language": "python",
   "name": "python3"
  },
  "language_info": {
   "codemirror_mode": {
    "name": "ipython",
    "version": 3
   },
   "file_extension": ".py",
   "mimetype": "text/x-python",
   "name": "python",
   "nbconvert_exporter": "python",
   "pygments_lexer": "ipython3",
   "version": "3.12.8"
  }
 },
 "nbformat": 4,
 "nbformat_minor": 2
}
