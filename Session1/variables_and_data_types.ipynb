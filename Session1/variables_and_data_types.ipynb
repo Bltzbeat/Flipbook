{
 "cells": [
  {
   "cell_type": "markdown",
   "metadata": {},
   "source": [
    "Variables\n",
    "\n",
    "In Python, a variable is a name that refers to a value stored in memory. \n",
    "\n",
    "You don't need to declare the type of a variable before using it."
   ]
  },
  {
   "cell_type": "code",
   "execution_count": 1,
   "metadata": {},
   "outputs": [],
   "source": [
    "# Basic variable assignment\n",
    "name = \"Lean\"\n",
    "age = 30\n",
    "height = 5.7\n",
    "is_student = True"
   ]
  },
  {
   "cell_type": "markdown",
   "metadata": {},
   "source": [
    "Python's print() and input() Functions\n",
    "\n",
    "print() Function\n",
    "\n",
    "The print() function displays output to the console or terminal. It's one of the most basic and frequently used functions in Python."
   ]
  },
  {
   "cell_type": "code",
   "execution_count": null,
   "metadata": {},
   "outputs": [],
   "source": [
    "print(name)\n",
    "print(age)\n",
    "print(height)\n",
    "print(is_student)"
   ]
  },
  {
   "cell_type": "markdown",
   "metadata": {},
   "source": [
    "input() Function\n",
    "\n",
    "The input() function reads user input from the console, allowing for interactive programs."
   ]
  },
  {
   "cell_type": "code",
   "execution_count": null,
   "metadata": {},
   "outputs": [],
   "source": [
    "name = input(\"Enter your name: \")\n",
    "print(\"Hello\", name)"
   ]
  },
  {
   "cell_type": "markdown",
   "metadata": {},
   "source": [
    "Common Data Types\n",
    "\n",
    "Strings\n",
    "\n",
    "1. Strings are sequences of characters enclosed in quotes."
   ]
  },
  {
   "cell_type": "code",
   "execution_count": 14,
   "metadata": {},
   "outputs": [],
   "source": [
    "# String examples\n",
    "first_name = \"Lean Lerry\"\n",
    "last_name = 'Delgado'\n",
    "multi_line = \"\"\"This is a\n",
    "multi-line string\"\"\"\n",
    "\n",
    "# String operations\n",
    "full_name = first_name + \" \" + last_name  # Concatenation\n",
    "greeting = f\"Hello, {full_name}!\"  # f-string formatting\n",
    "uppercase = full_name.upper()  # Methods\n",
    "length = len(full_name)  # Functions"
   ]
  },
  {
   "cell_type": "markdown",
   "metadata": {},
   "source": [
    "Numbers\n",
    "\n",
    "2. Python has several numeric types including integers and floating-point numbers."
   ]
  },
  {
   "cell_type": "code",
   "execution_count": 22,
   "metadata": {},
   "outputs": [],
   "source": [
    "# Integer examples\n",
    "count = 42\n",
    "negative = -10\n",
    "big_number = 1_000_000  # Underscores for readability\n",
    "\n",
    "# Float examples\n",
    "pi = 3.14159\n",
    "temperature = -2.5\n",
    "\n",
    "# Numeric operations\n",
    "sum_value = 10 + 5  # Addition\n",
    "product = 4 * 5  # Multiplication\n",
    "power = 2 ** 3  # Exponentiation (2³ = 8)\n",
    "division = 10 / 3  # Returns float: 3.3333...\n",
    "integer_division = 10 // 3  # Returns integer: 3\n",
    "remainder = 10 % 3  # Modulo (remainder): 1"
   ]
  },
  {
   "cell_type": "markdown",
   "metadata": {},
   "source": [
    "Booleans\n",
    "\n",
    "3. Boolean values represent Truth or False."
   ]
  },
  {
   "cell_type": "code",
   "execution_count": 23,
   "metadata": {},
   "outputs": [],
   "source": [
    "is_active = True\n",
    "has_permission = False\n",
    "\n",
    "# Boolean operations\n",
    "is_valid = is_active and has_permission  # Logical AND\n",
    "can_login = is_active or has_permission  # Logical OR\n",
    "is_inactive = not is_active  # Logical NOT"
   ]
  },
  {
   "cell_type": "markdown",
   "metadata": {},
   "source": [
    "Tuples\n",
    "\n",
    "4. Tuples are ordered, immutable collections."
   ]
  },
  {
   "cell_type": "code",
   "execution_count": 24,
   "metadata": {},
   "outputs": [],
   "source": [
    "# Tuple examples\n",
    "coordinates = (10, 20)\n",
    "rgb = (255, 0, 0)\n",
    "\n",
    "# Accessing elements\n",
    "x = coordinates[0]  # 10\n",
    "y = coordinates[1]  # 20\n",
    "\n",
    "# Tuple unpacking\n",
    "x, y = coordinates\n",
    "r, g, b = rgb"
   ]
  },
  {
   "cell_type": "markdown",
   "metadata": {},
   "source": [
    "Dictionaries\n",
    "\n",
    "5. Dictionaries store key-value pairs."
   ]
  },
  {
   "cell_type": "code",
   "execution_count": 25,
   "metadata": {},
   "outputs": [],
   "source": [
    "# Dictionary examples\n",
    "person = {\n",
    "    \"name\": \"Alice\",\n",
    "    \"age\": 30,\n",
    "    \"is_student\": False\n",
    "}\n",
    "\n",
    "# Accessing values\n",
    "name = person[\"name\"]  # Using key\n",
    "age = person.get(\"age\", 0)  # Using get() with default\n",
    "\n",
    "# Modifying dictionaries\n",
    "person[\"email\"] = \"alice@example.com\"  # Add new key-value pair\n",
    "person[\"age\"] = 31  # Update existing value\n",
    "del person[\"is_student\"]  # Remove key-value pair"
   ]
  },
  {
   "cell_type": "markdown",
   "metadata": {},
   "source": [
    "Sets\n",
    "\n",
    "6. Sets are unordered collections of unique items."
   ]
  },
  {
   "cell_type": "code",
   "execution_count": 26,
   "metadata": {},
   "outputs": [],
   "source": [
    "# Set examples\n",
    "unique_numbers = {1, 2, 3, 4, 5}\n",
    "fruits_set = {\"apple\", \"banana\", \"cherry\"}\n",
    "\n",
    "# Set operations\n",
    "unique_numbers.add(6)  # Add element\n",
    "fruits_set.remove(\"banana\")  # Remove element\n",
    "union = unique_numbers | {5, 6, 7}  # Union\n",
    "intersection = unique_numbers & {4, 5, 6}  # Intersection"
   ]
  },
  {
   "cell_type": "markdown",
   "metadata": {},
   "source": [
    "None\n",
    "\n",
    "7. None represents the absence of a value."
   ]
  },
  {
   "cell_type": "code",
   "execution_count": 27,
   "metadata": {},
   "outputs": [],
   "source": [
    "# None example\n",
    "result = None"
   ]
  },
  {
   "cell_type": "markdown",
   "metadata": {},
   "source": [
    "Type Conversion\n",
    "\n",
    "Python allows conversion between data types:"
   ]
  },
  {
   "cell_type": "code",
   "execution_count": null,
   "metadata": {},
   "outputs": [],
   "source": [
    "# Type conversion examples\n",
    "age_str = \"30\"\n",
    "age_int = int(age_str)  # String to integer\n",
    "\n",
    "price = 19.99\n",
    "price_int = int(price)  # Float to integer (truncates to 19)\n",
    "price_str = str(price)  # Float to string\n",
    "\n",
    "is_active_str = str(True)  # Boolean to string (\"True\")"
   ]
  },
  {
   "cell_type": "markdown",
   "metadata": {},
   "source": [
    "Checking Data Types\n",
    "\n",
    "You can check the type of a variable using the type() function:"
   ]
  },
  {
   "cell_type": "code",
   "execution_count": null,
   "metadata": {},
   "outputs": [],
   "source": [
    "type(\"Lean\")  # <class 'str'>\n",
    "type(42)       # <class 'int'>\n",
    "type(3.14)     # <class 'float'>\n",
    "type(True)     # <class 'bool'>\n",
    "type([1, 2])   # <class 'list'>\n",
    "type((1, 2))   # <class 'tuple'>\n",
    "type({\"a\": 1}) # <class 'dict'>"
   ]
  }
 ],
 "metadata": {
  "kernelspec": {
   "display_name": "Python 3",
   "language": "python",
   "name": "python3"
  },
  "language_info": {
   "codemirror_mode": {
    "name": "ipython",
    "version": 3
   },
   "file_extension": ".py",
   "mimetype": "text/x-python",
   "name": "python",
   "nbconvert_exporter": "python",
   "pygments_lexer": "ipython3",
   "version": "3.12.8"
  }
 },
 "nbformat": 4,
 "nbformat_minor": 2
}
