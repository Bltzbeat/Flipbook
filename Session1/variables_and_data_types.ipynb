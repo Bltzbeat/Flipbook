{
 "cells": [
  {
   "cell_type": "markdown",
   "metadata": {},
   "source": [
    "Variables\n",
    "\n",
    "In Python, a variable is a name that refers to a value stored in memory. \n",
    "\n",
    "You don't need to declare the type of a variable before using it."
   ]
  },
  {
   "cell_type": "code",
   "execution_count": 7,
   "metadata": {},
   "outputs": [],
   "source": [
    "# Basic variable assignment\n",
    "name = \"Alice\"\n",
    "age = 30\n",
    "height = 5.7\n",
    "is_student = True"
   ]
  },
  {
   "cell_type": "markdown",
   "metadata": {},
   "source": [
    "Common Data Types\n",
    "\n",
    "1. Strings\n",
    "Strings are sequences of characters enclosed in quotes."
   ]
  },
  {
   "cell_type": "code",
   "execution_count": 8,
   "metadata": {},
   "outputs": [],
   "source": [
    "# String examples\n",
    "first_name = \"Lean Lerry\"\n",
    "last_name = 'Delgado'\n",
    "multi_line = \"\"\"This is a\n",
    "multi-line string\"\"\"\n",
    "\n",
    "# String operations\n",
    "full_name = first_name + \" \" + last_name  # Concatenation\n",
    "greeting = f\"Hello, {full_name}!\"  # f-string formatting\n",
    "uppercase = full_name.upper()  # Methods\n",
    "length = len(full_name)  # Functions"
   ]
  },
  {
   "cell_type": "markdown",
   "metadata": {},
   "source": [
    "Numbers\n",
    "\n",
    "2. Python has several numeric types including integers and floating-point numbers."
   ]
  },
  {
   "cell_type": "code",
   "execution_count": 9,
   "metadata": {},
   "outputs": [],
   "source": [
    "# Integer examples\n",
    "count = 42\n",
    "negative = -10\n",
    "big_number = 1_000_000  # Underscores for readability\n",
    "\n",
    "# Float examples\n",
    "pi = 3.14159\n",
    "temperature = -2.5\n",
    "\n",
    "# Numeric operations\n",
    "sum_value = 10 + 5  # Addition\n",
    "product = 4 * 5  # Multiplication\n",
    "power = 2 ** 3  # Exponentiation (2³ = 8)\n",
    "division = 10 / 3  # Returns float: 3.3333...\n",
    "integer_division = 10 // 3  # Returns integer: 3\n",
    "remainder = 10 % 3  # Modulo (remainder): 1"
   ]
  },
  {
   "cell_type": "code",
   "execution_count": null,
   "metadata": {},
   "outputs": [],
   "source": []
  }
 ],
 "metadata": {
  "kernelspec": {
   "display_name": "Python 3",
   "language": "python",
   "name": "python3"
  },
  "language_info": {
   "codemirror_mode": {
    "name": "ipython",
    "version": 3
   },
   "file_extension": ".py",
   "mimetype": "text/x-python",
   "name": "python",
   "nbconvert_exporter": "python",
   "pygments_lexer": "ipython3",
   "version": "3.12.8"
  }
 },
 "nbformat": 4,
 "nbformat_minor": 2
}
